{
  "nbformat": 4,
  "nbformat_minor": 0,
  "metadata": {
    "colab": {
      "name": "FSIL.ipynb",
      "provenance": [],
      "authorship_tag": "ABX9TyO+ZD0AcAwuAE+baR39z5HW",
      "include_colab_link": true
    },
    "kernelspec": {
      "name": "python3",
      "display_name": "Python 3"
    },
    "language_info": {
      "name": "python"
    },
    "accelerator": "GPU",
    "gpuClass": "standard"
  },
  "cells": [
    {
      "cell_type": "markdown",
      "metadata": {
        "id": "view-in-github",
        "colab_type": "text"
      },
      "source": [
        "<a href=\"https://colab.research.google.com/github/ShadmanRohan/FSCIL-3D/blob/main/FSIL2.ipynb\" target=\"_parent\"><img src=\"https://colab.research.google.com/assets/colab-badge.svg\" alt=\"Open In Colab\"/></a>"
      ]
    },
    {
      "cell_type": "code",
      "source": [
        "!git clone https://github.com/townim-faisal/FSCIL-3D.git"
      ],
      "metadata": {
        "colab": {
          "base_uri": "https://localhost:8080/"
        },
        "id": "G3AMo9JHyXEY",
        "outputId": "f2e43247-0a1f-4809-dbeb-184f61ccfbc4"
      },
      "execution_count": 1,
      "outputs": [
        {
          "output_type": "stream",
          "name": "stdout",
          "text": [
            "Cloning into 'FSCIL-3D'...\n",
            "remote: Enumerating objects: 161, done.\u001b[K\n",
            "remote: Counting objects: 100% (161/161), done.\u001b[K\n",
            "remote: Compressing objects: 100% (144/144), done.\u001b[K\n",
            "remote: Total 161 (delta 25), reused 127 (delta 13), pack-reused 0\u001b[K\n",
            "Receiving objects: 100% (161/161), 959.54 KiB | 11.99 MiB/s, done.\n",
            "Resolving deltas: 100% (25/25), done.\n"
          ]
        }
      ]
    },
    {
      "cell_type": "code",
      "source": [
        "%%capture --no-display\n",
        "!gdown 1vSSeHusi8yStzl_OJNW4u9EARdNxNOAB # download dataset!\n",
        "!mkdir dataset\n",
        "!unzip dataset.zip -d /content/FSCIL-3D/data/dataset"
      ],
      "metadata": {
        "id": "7ZAPAXVYIDFT"
      },
      "execution_count": 2,
      "outputs": []
    },
    {
      "cell_type": "code",
      "source": [
        "!pip install -r /content/requirements.txt"
      ],
      "metadata": {
        "id": "lOrG7NaRCcEA",
        "outputId": "571c6fe9-c0bf-42cf-eb68-b250808ad938",
        "colab": {
          "base_uri": "https://localhost:8080/"
        }
      },
      "execution_count": 3,
      "outputs": [
        {
          "output_type": "stream",
          "name": "stdout",
          "text": [
            "Looking in indexes: https://pypi.org/simple, https://us-python.pkg.dev/colab-wheels/public/simple/\n",
            "Collecting path\n",
            "  Downloading path-16.4.0-py3-none-any.whl (26 kB)\n",
            "Collecting torchmetrics\n",
            "  Downloading torchmetrics-0.9.3-py3-none-any.whl (419 kB)\n",
            "\u001b[K     |████████████████████████████████| 419 kB 9.6 MB/s \n",
            "\u001b[?25hCollecting pynvml\n",
            "  Downloading pynvml-11.4.1-py3-none-any.whl (46 kB)\n",
            "\u001b[K     |████████████████████████████████| 46 kB 5.5 MB/s \n",
            "\u001b[?25hRequirement already satisfied: torch>=1.3.1 in /usr/local/lib/python3.7/dist-packages (from torchmetrics->-r /content/requirements.txt (line 2)) (1.12.1+cu113)\n",
            "Requirement already satisfied: packaging in /usr/local/lib/python3.7/dist-packages (from torchmetrics->-r /content/requirements.txt (line 2)) (21.3)\n",
            "Requirement already satisfied: numpy>=1.17.2 in /usr/local/lib/python3.7/dist-packages (from torchmetrics->-r /content/requirements.txt (line 2)) (1.21.6)\n",
            "Requirement already satisfied: typing-extensions in /usr/local/lib/python3.7/dist-packages (from torchmetrics->-r /content/requirements.txt (line 2)) (4.1.1)\n",
            "Requirement already satisfied: pyparsing!=3.0.5,>=2.0.2 in /usr/local/lib/python3.7/dist-packages (from packaging->torchmetrics->-r /content/requirements.txt (line 2)) (3.0.9)\n",
            "Installing collected packages: torchmetrics, pynvml, path\n",
            "Successfully installed path-16.4.0 pynvml-11.4.1 torchmetrics-0.9.3\n"
          ]
        }
      ]
    },
    {
      "cell_type": "code",
      "source": [
        "from google.colab import drive\n",
        "drive.mount('/content/gdrive')"
      ],
      "metadata": {
        "id": "jHmU5V_bKuGp",
        "outputId": "9f970c3c-1c3a-4cf9-9c17-a1b9cb86b7df",
        "colab": {
          "base_uri": "https://localhost:8080/"
        }
      },
      "execution_count": 4,
      "outputs": [
        {
          "output_type": "stream",
          "name": "stdout",
          "text": [
            "Mounted at /content/gdrive\n"
          ]
        }
      ]
    },
    {
      "cell_type": "code",
      "source": [
        "!mkdir /content/FSCIL-3D/saved_models\n",
        "from distutils.dir_util import copy_tree\n",
        "copy_tree(\"/content/gdrive/MyDrive/RequiredCentroidsAndModel\", \"/content/FSCIL-3D/saved_models\")"
      ],
      "metadata": {
        "id": "s140fL0kLrz5",
        "outputId": "202417ff-7644-47f9-81bf-0ef17d68bef2",
        "colab": {
          "base_uri": "https://localhost:8080/"
        }
      },
      "execution_count": 5,
      "outputs": [
        {
          "output_type": "execute_result",
          "data": {
            "text/plain": [
              "['/content/FSCIL-3D/saved_models/task_0_cluster_with_w2v.pth',\n",
              " '/content/FSCIL-3D/saved_models/centroids/with_w2v/1024x1024_cosine.pth']"
            ]
          },
          "metadata": {},
          "execution_count": 5
        }
      ]
    },
    {
      "cell_type": "code",
      "source": [
        "!python /content/FSCIL-3D/train_pointnet_incremental_with_knn_with_w2v.py --config_file=/content/FSCIL-3D/configs/ShapeNet_CO3D_incremental_config.yaml"
      ],
      "metadata": {
        "colab": {
          "base_uri": "https://localhost:8080/"
        },
        "id": "6F2I1GoNzT8z",
        "outputId": "0969c52f-27a9-464d-b2b0-fc97f6a52f5f"
      },
      "execution_count": 15,
      "outputs": [
        {
          "output_type": "stream",
          "name": "stdout",
          "text": [
            "Configurations: {'dataset_path': '/content/FSCIL-3D/data/dataset/shapenet_co3d', 'sem_file': 'wiki', 'lr': '1e-4', 'wd': '1e-6', 'epochs': 40, 'nclasses': 89, 'seed': 42, 'ntasks': 11, 'batch_size': 32, 'workers': 4, 'use_memory': True, 'num_samples': 1, 'feature_dim': 1024, 'fewshot': 5, 'sim': 'cosine', 'experiment': 'cluster'}\n",
            "CLUSTER 300\n",
            "Load feature extractor model: /content/FSCIL-3D/saved_models/task_0_cluster_with_w2v.pth\n",
            "protype building model is loaded..........\n",
            "**************************************************\n",
            "len_data with_Out_mem:  26287\n",
            "Traceback (most recent call last):\n",
            "  File \"/usr/local/lib/python3.7/dist-packages/scipy/io/matlab/mio.py\", line 39, in _open_file\n",
            "    return open(file_like, mode), True\n",
            "FileNotFoundError: [Errno 2] No such file or directory: Path('/content/FSCIL-3D/data/dataset/shapenet_co3d/wiki')\n",
            "\n",
            "During handling of the above exception, another exception occurred:\n",
            "\n",
            "Traceback (most recent call last):\n",
            "  File \"/content/FSCIL-3D/train_pointnet_incremental_with_knn_with_w2v.py\", line 249, in <module>\n",
            "    dataset = dataloader.get(t,'training')\n",
            "  File \"/content/FSCIL-3D/src/data_utils/datautil_3D_memory_incremental_shapenet_co3d.py\", line 290, in get\n",
            "    transform=self.default_transforms, phase=phase, fewshot=self.fewshot)\n",
            "  File \"/content/FSCIL-3D/src/data_utils/datautil_3D_memory_incremental_shapenet_co3d.py\", line 182, in __init__\n",
            "    wordvector = sio.loadmat(os.path.join(root, sem_file))\n",
            "  File \"/usr/local/lib/python3.7/dist-packages/scipy/io/matlab/mio.py\", line 224, in loadmat\n",
            "    with _open_file_context(file_name, appendmat) as f:\n",
            "  File \"/usr/lib/python3.7/contextlib.py\", line 112, in __enter__\n",
            "    return next(self.gen)\n",
            "  File \"/usr/local/lib/python3.7/dist-packages/scipy/io/matlab/mio.py\", line 17, in _open_file_context\n",
            "    f, opened = _open_file(file_like, appendmat, mode)\n",
            "  File \"/usr/local/lib/python3.7/dist-packages/scipy/io/matlab/mio.py\", line 45, in _open_file\n",
            "    return open(file_like, mode), True\n",
            "FileNotFoundError: [Errno 2] No such file or directory: Path('/content/FSCIL-3D/data/dataset/shapenet_co3d/wiki.mat')\n"
          ]
        }
      ]
    },
    {
      "cell_type": "code",
      "source": [
        "!python /content/FSCIL-3D/knn_centroids.py --config_file='/content/FSCIL-3D/configs/ShapeNet_CO3D_incremental_config.yaml'"
      ],
      "metadata": {
        "id": "BBETvneUTxJP",
        "outputId": "0cdf4b0e-8e5c-406c-cce7-259a6332c6e5",
        "colab": {
          "base_uri": "https://localhost:8080/"
        }
      },
      "execution_count": 14,
      "outputs": [
        {
          "output_type": "stream",
          "name": "stdout",
          "text": [
            "Configurations: {'dataset_path': '/content/FSCIL-3D/data/dataset/shapenet_co3d', 'sem_file': 'wiki', 'lr': '1e-4', 'wd': '1e-6', 'epochs': 40, 'nclasses': 89, 'seed': 42, 'ntasks': 11, 'batch_size': 1, 'workers': 4, 'use_memory': True, 'num_samples': 0, 'feature_dim': 1024, 'fewshot': 5, 'sim': 'cosine', 'experiment': 'cluster'}\n",
            "Traceback (most recent call last):\n",
            "  File \"/content/FSCIL-3D/knn_centroids.py\", line 38, in <module>\n",
            "    saved_model_path = Path('./saved_models/pointnet/').mkdir_p()\n",
            "  File \"/usr/local/lib/python3.7/dist-packages/path/__init__.py\", line 1112, in mkdir_p\n",
            "    self.mkdir(mode)\n",
            "  File \"/usr/local/lib/python3.7/dist-packages/path/__init__.py\", line 1105, in mkdir\n",
            "    os.mkdir(self, mode)\n",
            "FileNotFoundError: [Errno 2] No such file or directory: Path('./saved_models/pointnet/')\n"
          ]
        }
      ]
    },
    {
      "cell_type": "code",
      "source": [],
      "metadata": {
        "id": "YPCDZN8-mJR3"
      },
      "execution_count": null,
      "outputs": []
    }
  ]
}